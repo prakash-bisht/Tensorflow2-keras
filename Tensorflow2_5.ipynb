{
  "nbformat": 4,
  "nbformat_minor": 0,
  "metadata": {
    "colab": {
      "name": "Tensorflow2-5.ipynb",
      "provenance": [],
      "authorship_tag": "ABX9TyOX39OqOyPAkYFMMSkxjaKp",
      "include_colab_link": true
    },
    "kernelspec": {
      "name": "python3",
      "display_name": "Python 3"
    }
  },
  "cells": [
    {
      "cell_type": "markdown",
      "metadata": {
        "id": "view-in-github",
        "colab_type": "text"
      },
      "source": [
        "<a href=\"https://colab.research.google.com/github/Noahbisht0/Tensorflow2-keras/blob/main/Tensorflow2_5.ipynb\" target=\"_parent\"><img src=\"https://colab.research.google.com/assets/colab-badge.svg\" alt=\"Open In Colab\"/></a>"
      ]
    },
    {
      "cell_type": "code",
      "metadata": {
        "colab": {
          "base_uri": "https://localhost:8080/"
        },
        "id": "QLNV0hBB9v36",
        "outputId": "d3204386-a02e-4b74-e726-817fd262ead8"
      },
      "source": [
        "!wget --no-check-certificate \\\n",
        "  https://storage.googleapis.com/mledu-datasets/cats_and_dogs_filtered.zip \\\n",
        "  -O /tmp/cats_and_dogs_filtered.zip"
      ],
      "execution_count": null,
      "outputs": [
        {
          "output_type": "stream",
          "text": [
            "--2021-01-30 11:22:23--  https://storage.googleapis.com/mledu-datasets/cats_and_dogs_filtered.zip\n",
            "Resolving storage.googleapis.com (storage.googleapis.com)... 173.194.217.128, 172.217.193.128, 172.217.204.128, ...\n",
            "Connecting to storage.googleapis.com (storage.googleapis.com)|173.194.217.128|:443... connected.\n",
            "HTTP request sent, awaiting response... 200 OK\n",
            "Length: 68606236 (65M) [application/zip]\n",
            "Saving to: ‘/tmp/cats_and_dogs_filtered.zip’\n",
            "\n",
            "/tmp/cats_and_dogs_ 100%[===================>]  65.43M   115MB/s    in 0.6s    \n",
            "\n",
            "2021-01-30 11:22:24 (115 MB/s) - ‘/tmp/cats_and_dogs_filtered.zip’ saved [68606236/68606236]\n",
            "\n"
          ],
          "name": "stdout"
        }
      ]
    },
    {
      "cell_type": "code",
      "metadata": {
        "id": "AsyOx7yP_VXJ"
      },
      "source": [
        "import os \n",
        "import zipfile \n",
        "local_zip = \"/tmp/cats_and_dogs_filtered.zip\"\n",
        "zip = zipfile.ZipFile(local_zip,'r')\n",
        "zip.extractall('/tmp')\n",
        "zip.close()"
      ],
      "execution_count": null,
      "outputs": []
    },
    {
      "cell_type": "code",
      "metadata": {
        "id": "2xBek6oW_VZy"
      },
      "source": [
        "base_dir = \"/tmp/cats_and_dogs_filtered\"\n",
        "train_dir = os.path.join(base_dir,'train')\n",
        "validation_dir = os.path.join(base_dir,'validation')\n",
        "train_cats_dir = os.path.join(train_dir,'cats')\n",
        "train_dogs_dir = os.path.join(train_dir,'dogs')\n",
        "validation_cats_dir = os.path.join(validation_dir,'cats')\n",
        "validation_dogs_dir = os.path.join(validation_dir,'dogs')"
      ],
      "execution_count": null,
      "outputs": []
    },
    {
      "cell_type": "code",
      "metadata": {
        "id": "lK-YjGIe_VdA"
      },
      "source": [
        "cat_fnames = os.listdir(train_cats_dir)\n",
        "dog_fnames = os.listdir(train_dogs_dir)"
      ],
      "execution_count": null,
      "outputs": []
    },
    {
      "cell_type": "code",
      "metadata": {
        "id": "Asdr5GGH_VkX"
      },
      "source": [
        "import tensorflow as tf \n",
        "model = tf.keras.models.Sequential([\n",
        "                                    tf.keras.layers.Conv2D(16,(3,3),activation=\"relu\",input_shape = (150,150,3)),\n",
        "                                    tf.keras.layers.MaxPooling2D(2,2),\n",
        "                                    tf.keras.layers.Conv2D(32,(3,3),activation=\"relu\"),\n",
        "                                    tf.keras.layers.MaxPooling2D(2,2),\n",
        "                                    tf.keras.layers.Conv2D(64,(3,3),activation=\"relu\"),\n",
        "                                    tf.keras.layers.MaxPooling2D(2,2),\n",
        "                                    tf.keras.layers.Flatten(),\n",
        "                                    tf.keras.layers.Dense(512,activation=\"relu\"),\n",
        "                                    tf.keras.layers.Dense(1,activation=\"sigmoid\")\n",
        "\n",
        "])"
      ],
      "execution_count": null,
      "outputs": []
    },
    {
      "cell_type": "code",
      "metadata": {
        "id": "aXMeZkxb_Vmy"
      },
      "source": [
        "from tensorflow.keras.optimizers import RMSprop\n",
        "model.compile(loss='binary_crossentropy',optimizer=RMSprop(lr=0.001),metrics=['accuracy'])"
      ],
      "execution_count": null,
      "outputs": []
    },
    {
      "cell_type": "code",
      "metadata": {
        "colab": {
          "base_uri": "https://localhost:8080/"
        },
        "id": "GrSX6Gir_Vpc",
        "outputId": "59143168-2e8c-40be-b385-f2d8acce12c4"
      },
      "source": [
        "from tensorflow.keras.preprocessing.image import ImageDataGenerator\n",
        "train_datagen = ImageDataGenerator(rescale=1/255,\n",
        "                                   rotation_range=40,\n",
        "                                   width_shift_range=0.2,\n",
        "                                   height_shift_range=0.2,\n",
        "                                   shear_range=0.2,\n",
        "                                   zoom_range=0.2,\n",
        "                                   horizontal_flip=True,\n",
        "                                   fill_mode='nearest') \n",
        "test_datagen = ImageDataGenerator(rescale=1/255)\n",
        "train_generator = train_datagen.flow_from_directory(train_dir,batch_size=20,class_mode='binary',target_size=(150,150))\n",
        "validation_generator = test_datagen.flow_from_directory(validation_dir,batch_size =20,class_mode='binary',target_size=(150,150))"
      ],
      "execution_count": null,
      "outputs": [
        {
          "output_type": "stream",
          "text": [
            "Found 2000 images belonging to 2 classes.\n",
            "Found 1000 images belonging to 2 classes.\n"
          ],
          "name": "stdout"
        }
      ]
    },
    {
      "cell_type": "code",
      "metadata": {
        "colab": {
          "base_uri": "https://localhost:8080/"
        },
        "id": "Ak0HZ1jA_VrV",
        "outputId": "1a0f4658-bf7e-4b19-f653-01b10855d946"
      },
      "source": [
        "history = model.fit(train_generator,validation_data=validation_generator,steps_per_epoch=100,epochs = 15,validation_steps=50,verbose=2)"
      ],
      "execution_count": null,
      "outputs": [
        {
          "output_type": "stream",
          "text": [
            "Epoch 1/15\n",
            "100/100 - 65s - loss: 0.9066 - accuracy: 0.5230 - val_loss: 0.6811 - val_accuracy: 0.5520\n",
            "Epoch 2/15\n",
            "100/100 - 64s - loss: 0.6934 - accuracy: 0.5560 - val_loss: 0.8025 - val_accuracy: 0.5080\n",
            "Epoch 3/15\n",
            "100/100 - 64s - loss: 0.6652 - accuracy: 0.6140 - val_loss: 0.6384 - val_accuracy: 0.6100\n",
            "Epoch 4/15\n",
            "100/100 - 63s - loss: 0.6410 - accuracy: 0.6395 - val_loss: 0.6080 - val_accuracy: 0.6630\n",
            "Epoch 5/15\n",
            "100/100 - 63s - loss: 0.6430 - accuracy: 0.6490 - val_loss: 0.5952 - val_accuracy: 0.6650\n",
            "Epoch 6/15\n",
            "100/100 - 68s - loss: 0.6183 - accuracy: 0.6580 - val_loss: 0.5745 - val_accuracy: 0.7060\n",
            "Epoch 7/15\n",
            "100/100 - 65s - loss: 0.6111 - accuracy: 0.6690 - val_loss: 0.5649 - val_accuracy: 0.6950\n",
            "Epoch 8/15\n",
            "100/100 - 64s - loss: 0.5908 - accuracy: 0.6860 - val_loss: 0.5369 - val_accuracy: 0.7120\n",
            "Epoch 9/15\n",
            "100/100 - 63s - loss: 0.6000 - accuracy: 0.6975 - val_loss: 0.5278 - val_accuracy: 0.7290\n",
            "Epoch 10/15\n",
            "100/100 - 64s - loss: 0.5826 - accuracy: 0.7060 - val_loss: 0.7795 - val_accuracy: 0.6170\n",
            "Epoch 11/15\n",
            "100/100 - 64s - loss: 0.5836 - accuracy: 0.6965 - val_loss: 0.5428 - val_accuracy: 0.7020\n",
            "Epoch 12/15\n",
            "100/100 - 64s - loss: 0.5819 - accuracy: 0.7035 - val_loss: 0.5551 - val_accuracy: 0.7230\n",
            "Epoch 13/15\n",
            "100/100 - 64s - loss: 0.5590 - accuracy: 0.7160 - val_loss: 0.5123 - val_accuracy: 0.7400\n",
            "Epoch 14/15\n",
            "100/100 - 64s - loss: 0.5660 - accuracy: 0.7035 - val_loss: 0.5529 - val_accuracy: 0.7150\n",
            "Epoch 15/15\n",
            "100/100 - 63s - loss: 0.5592 - accuracy: 0.7190 - val_loss: 0.5309 - val_accuracy: 0.7210\n"
          ],
          "name": "stdout"
        }
      ]
    },
    {
      "cell_type": "code",
      "metadata": {
        "colab": {
          "base_uri": "https://localhost:8080/",
          "height": 545
        },
        "id": "Do1aGtel_wuj",
        "outputId": "a1822beb-03ed-43c1-a0ed-03c4642f5d2c"
      },
      "source": [
        "import matplotlib.pyplot as plt\n",
        "acc = history.history['accuracy']\n",
        "val_acc = history.history['val_accuracy']\n",
        "loss = history.history['loss']\n",
        "val_loss = history.history['val_loss']\n",
        "epochs = range(len(acc))\n",
        "plt.plot(epochs,acc,'bo',label=\"Training accuracy\")\n",
        "plt.plot(epochs,val_acc,'b',label = \"validation accuracy\")\n",
        "plt.title(\"Training and validation accuracy\")\n",
        "plt.figure()\n",
        "plt.plot(epochs,loss,'bo',label = \"Training loss\")\n",
        "plt.plot(epochs,val_loss,'b',label = \"Validation loss\")\n",
        "plt.title(\"Training and validation loss\")\n",
        "plt.show()"
      ],
      "execution_count": null,
      "outputs": [
        {
          "output_type": "display_data",
          "data": {
            "image/png": "[encoded data removed]",
            "text/plain": [
              "<Figure size 432x288 with 1 Axes>"
            ]
          },
          "metadata": {
            "tags": [],
            "needs_background": "light"
          }
        },
        {
          "output_type": "display_data",
          "data": {
            "image/png": "[encoded data removed]",
            "text/plain": [
              "<Figure size 432x288 with 1 Axes>"
            ]
          },
          "metadata": {
            "tags": [],
            "needs_background": "light"
          }
        }
      ]
    }
  ]
}