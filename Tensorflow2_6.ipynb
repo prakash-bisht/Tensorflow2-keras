{
  "nbformat": 4,
  "nbformat_minor": 0,
  "metadata": {
    "colab": {
      "name": "Tensorflow2-6.ipynb",
      "provenance": [],
      "authorship_tag": "ABX9TyNiJE4IgJOh+NLfO2nO+qYG",
      "include_colab_link": true
    },
    "kernelspec": {
      "name": "python3",
      "display_name": "Python 3"
    }
  },
  "cells": [
    {
      "cell_type": "markdown",
      "metadata": {
        "id": "view-in-github",
        "colab_type": "text"
      },
      "source": [
        "<a href=\"https://colab.research.google.com/github/Noahbisht0/Tensorflow2-keras/blob/main/Tensorflow2_6.ipynb\" target=\"_parent\"><img src=\"https://colab.research.google.com/assets/colab-badge.svg\" alt=\"Open In Colab\"/></a>"
      ]
    },
    {
      "cell_type": "code",
      "metadata": {
        "colab": {
          "base_uri": "https://localhost:8080/"
        },
        "id": "T9L0s9NJlttM",
        "outputId": "63232641-a064-490d-8f01-797dd8df2e4c"
      },
      "source": [
        "!wget --no-check-certificate \\\n",
        "    https://storage.googleapis.com/mledu-datasets/inception_v3_weights_tf_dim_ordering_tf_kernels_notop.h5 \\\n",
        "    -O /tmp/inception_v3_weights_tf_dim_ordering_tf_kernels_notop.h5"
      ],
      "execution_count": null,
      "outputs": [
        {
          "output_type": "stream",
          "text": [
            "--2021-01-31 08:38:18--  https://storage.googleapis.com/mledu-datasets/inception_v3_weights_tf_dim_ordering_tf_kernels_notop.h5\n",
            "Resolving storage.googleapis.com (storage.googleapis.com)... 74.125.137.128, 142.250.101.128, 2607:f8b0:4023:c03::80, ...\n",
            "Connecting to storage.googleapis.com (storage.googleapis.com)|74.125.137.128|:443... connected.\n",
            "HTTP request sent, awaiting response... 200 OK\n",
            "Length: 87910968 (84M) [application/x-hdf]\n",
            "Saving to: ‘/tmp/inception_v3_weights_tf_dim_ordering_tf_kernels_notop.h5’\n",
            "\n",
            "/tmp/inception_v3_w 100%[===================>]  83.84M  95.4MB/s    in 0.9s    \n",
            "\n",
            "2021-01-31 08:38:19 (95.4 MB/s) - ‘/tmp/inception_v3_weights_tf_dim_ordering_tf_kernels_notop.h5’ saved [87910968/87910968]\n",
            "\n"
          ],
          "name": "stdout"
        }
      ]
    },
    {
      "cell_type": "code",
      "metadata": {
        "colab": {
          "base_uri": "https://localhost:8080/"
        },
        "id": "2vgJQrL7lzAP",
        "outputId": "88be26ee-4a22-4570-d69d-5e28b8cb1a89"
      },
      "source": [
        "import os \n",
        "from tensorflow.keras import layers\n",
        "from tensorflow.keras import Model \n",
        "from tensorflow.keras.applications.inception_v3 import InceptionV3\n",
        "local_file = '/tmp/inception_v3_weights_tf_dim_ordering_tf_kernels_notop.h5'\n",
        "pre_trained_model = InceptionV3(input_shape=(150,150,3),\n",
        "                                 include_top = False,\n",
        "                                 weights = None)\n",
        "pre_trained_model.load_weights(local_file)\n",
        "for layer in pre_trained_model.layers:\n",
        "  layers.trainable = False \n",
        "last_layer = pre_trained_model.get_layer('mixed7')\n",
        "print(\"last layer output shape: \", last_layer.output_shape)\n",
        "last_output = last_layer.output "
      ],
      "execution_count": null,
      "outputs": [
        {
          "output_type": "stream",
          "text": [
            "last layer output shape:  (None, 7, 7, 768)\n"
          ],
          "name": "stdout"
        }
      ]
    },
    {
      "cell_type": "code",
      "metadata": {
        "id": "U5k2q6NrlzDr"
      },
      "source": [
        "from tensorflow.keras.optimizers import RMSprop \n",
        "x = layers.Flatten()(last_output)\n",
        "x = layers.Dense(1024,activation='relu')(x)\n",
        "x = layers.Dropout(0.2)(x)\n",
        "x = layers.Dense(1,activation=\"sigmoid\")(x)\n",
        "model = Model(pre_trained_model.input,x)\n",
        "model.compile(optimizer=RMSprop(lr=0.0001),loss = \"binary_crossentropy\",metrics = ['accuracy'])"
      ],
      "execution_count": null,
      "outputs": []
    },
    {
      "cell_type": "code",
      "metadata": {
        "colab": {
          "base_uri": "https://localhost:8080/"
        },
        "id": "yP865vN8lzG5",
        "outputId": "042d2655-c8c3-4949-bc23-9069458691b6"
      },
      "source": [
        "!wget --no-check-certificate \\\n",
        "        https://storage.googleapis.com/mledu-datasets/cats_and_dogs_filtered.zip \\\n",
        "       -O /tmp/cats_and_dogs_filtered.zip\n",
        "\n",
        "from tensorflow.keras.preprocessing.image import ImageDataGenerator\n",
        "import os\n",
        "import zipfile\n",
        "zip = '/tmp/cats_and_dogs_filtered.zip'\n",
        "local_zip = zipfile.ZipFile(zip,'r')\n",
        "local_zip.extractall('/tmp')\n",
        "local_zip.close()\n",
        "base_dir = '/tmp/cats_and_dogs_filtered'\n",
        "train_dir = os.path.join(base_dir,'train')\n",
        "validation_dir = os.path.join(base_dir,'validation')\n",
        "train_dogs_dir = os.path.join(train_dir,'dogs')\n",
        "train_cats_dir = os.path.join(train_dir,'cats')\n",
        "validation_dogs_dir = os.path.join(validation_dir,'dogs')\n",
        "validation_cats_dir = os.path.join(validation_dir,'cats')\n",
        "dogs_fnames = os.listdir(train_dogs_dir)\n",
        "cats_fnames = os.listdir(train_cats_dir)\n",
        "train_datagen = ImageDataGenerator(rescale=1/255,\n",
        "                                   rotation_range=40,\n",
        "                                   width_shift_range=0.2,\n",
        "                                   height_shift_range=0.2,\n",
        "                                   shear_range=0.2,\n",
        "                                   zoom_range=0.2,\n",
        "                                   horizontal_flip=True)\n",
        "test_datagen = ImageDataGenerator(rescale=1/255)\n",
        "train_generator = train_datagen.flow_from_directory(train_dir,batch_size=20,class_mode='binary',target_size=(150,150))\n",
        "validation_generator = test_datagen.flow_from_directory(validation_dir,batch_size=20,class_mode='binary',target_size=(150,150))"
      ],
      "execution_count": null,
      "outputs": [
        {
          "output_type": "stream",
          "text": [
            "--2021-01-31 09:26:06--  https://storage.googleapis.com/mledu-datasets/cats_and_dogs_filtered.zip\n",
            "Resolving storage.googleapis.com (storage.googleapis.com)... 74.125.137.128, 142.250.101.128, 2607:f8b0:4023:c03::80, ...\n",
            "Connecting to storage.googleapis.com (storage.googleapis.com)|74.125.137.128|:443... connected.\n",
            "HTTP request sent, awaiting response... 200 OK\n",
            "Length: 68606236 (65M) [application/zip]\n",
            "Saving to: ‘/tmp/cats_and_dogs_filtered.zip’\n",
            "\n",
            "/tmp/cats_and_dogs_ 100%[===================>]  65.43M   373MB/s    in 0.2s    \n",
            "\n",
            "2021-01-31 09:26:06 (373 MB/s) - ‘/tmp/cats_and_dogs_filtered.zip’ saved [68606236/68606236]\n",
            "\n",
            "Found 2000 images belonging to 2 classes.\n",
            "Found 1000 images belonging to 2 classes.\n"
          ],
          "name": "stdout"
        }
      ]
    },
    {
      "cell_type": "code",
      "metadata": {
        "colab": {
          "base_uri": "https://localhost:8080/"
        },
        "id": "u6Ke3aKOlzJv",
        "outputId": "610490d0-1e9a-4c54-ac23-e6ba8228eba0"
      },
      "source": [
        "history = model.fit(train_generator,validation_data = validation_generator,steps_per_epoch=20,epochs=20,verbose=2,validation_steps=50)"
      ],
      "execution_count": null,
      "outputs": [
        {
          "output_type": "stream",
          "text": [
            "Epoch 1/20\n",
            "20/20 - 89s - loss: 0.3096 - accuracy: 0.8675 - val_loss: 0.1244 - val_accuracy: 0.9580\n",
            "Epoch 2/20\n",
            "20/20 - 89s - loss: 0.2837 - accuracy: 0.8775 - val_loss: 0.1828 - val_accuracy: 0.9490\n",
            "Epoch 3/20\n",
            "20/20 - 92s - loss: 0.2402 - accuracy: 0.9025 - val_loss: 0.1703 - val_accuracy: 0.9520\n",
            "Epoch 4/20\n",
            "20/20 - 88s - loss: 0.2168 - accuracy: 0.9000 - val_loss: 0.1454 - val_accuracy: 0.9610\n",
            "Epoch 5/20\n",
            "20/20 - 86s - loss: 0.2535 - accuracy: 0.8950 - val_loss: 0.1802 - val_accuracy: 0.9520\n",
            "Epoch 6/20\n",
            "20/20 - 89s - loss: 0.2034 - accuracy: 0.9200 - val_loss: 0.1630 - val_accuracy: 0.9590\n",
            "Epoch 7/20\n",
            "20/20 - 87s - loss: 0.1915 - accuracy: 0.9150 - val_loss: 0.2095 - val_accuracy: 0.9520\n",
            "Epoch 8/20\n",
            "20/20 - 86s - loss: 0.2033 - accuracy: 0.9175 - val_loss: 0.1698 - val_accuracy: 0.9570\n",
            "Epoch 9/20\n",
            "20/20 - 85s - loss: 0.2134 - accuracy: 0.9175 - val_loss: 0.1952 - val_accuracy: 0.9540\n",
            "Epoch 10/20\n",
            "20/20 - 85s - loss: 0.1518 - accuracy: 0.9350 - val_loss: 0.2573 - val_accuracy: 0.9540\n",
            "Epoch 11/20\n",
            "20/20 - 84s - loss: 0.1624 - accuracy: 0.9275 - val_loss: 0.1983 - val_accuracy: 0.9590\n",
            "Epoch 12/20\n",
            "20/20 - 85s - loss: 0.1389 - accuracy: 0.9425 - val_loss: 0.1419 - val_accuracy: 0.9660\n",
            "Epoch 13/20\n",
            "20/20 - 84s - loss: 0.1624 - accuracy: 0.9375 - val_loss: 0.3111 - val_accuracy: 0.9530\n",
            "Epoch 14/20\n",
            "20/20 - 84s - loss: 0.1775 - accuracy: 0.9375 - val_loss: 0.1685 - val_accuracy: 0.9590\n",
            "Epoch 15/20\n",
            "20/20 - 85s - loss: 0.1563 - accuracy: 0.9425 - val_loss: 0.2138 - val_accuracy: 0.9570\n",
            "Epoch 16/20\n",
            "20/20 - 86s - loss: 0.1636 - accuracy: 0.9375 - val_loss: 0.2791 - val_accuracy: 0.9530\n",
            "Epoch 17/20\n",
            "20/20 - 84s - loss: 0.1937 - accuracy: 0.9425 - val_loss: 0.2197 - val_accuracy: 0.9650\n",
            "Epoch 18/20\n",
            "20/20 - 82s - loss: 0.1003 - accuracy: 0.9700 - val_loss: 0.2461 - val_accuracy: 0.9670\n",
            "Epoch 19/20\n",
            "20/20 - 83s - loss: 0.1574 - accuracy: 0.9550 - val_loss: 0.2886 - val_accuracy: 0.9680\n",
            "Epoch 20/20\n",
            "20/20 - 82s - loss: 0.1636 - accuracy: 0.9500 - val_loss: 0.3382 - val_accuracy: 0.9590\n"
          ],
          "name": "stdout"
        }
      ]
    },
    {
      "cell_type": "code",
      "metadata": {
        "id": "vEposrSilzb-"
      },
      "source": [
        "import matplotlib.pyplot as plt \n",
        "acc = history.history[\"accuracy\"]\n",
        "val_acc = history.history[\"val_accuracy\"] \n",
        "loss = history.history['loss']\n",
        "val_loss = history.history[\"val_loss\"]\n",
        "epochs = range(len(acc))\n",
        "plt.plot(epochs,acc,'r',label=\"Training accuracy\")\n",
        "plt.plot(epochs,val_acc,'b',label=\"validation accuracy\")\n",
        "plt.legend(loc=0)\n",
        "plt.figure()\n",
        "plt.show()\n"
      ],
      "execution_count": null,
      "outputs": []
    }
  ]
}