{
  "nbformat": 4,
  "nbformat_minor": 0,
  "metadata": {
    "colab": {
      "name": "Tensorflow2-2.ipynb",
      "provenance": [],
      "authorship_tag": "ABX9TyPLh8JIxxBr5YthZ+BXpmCH",
      "include_colab_link": true
    },
    "kernelspec": {
      "display_name": "Python 3",
      "name": "python3"
    }
  },
  "cells": [
    {
      "cell_type": "markdown",
      "metadata": {
        "id": "view-in-github",
        "colab_type": "text"
      },
      "source": [
        "<a href=\"https://colab.research.google.com/github/Noahbisht0/Tensorflow2-keras/blob/main/Tensorflow2_2.ipynb\" target=\"_parent\"><img src=\"https://colab.research.google.com/assets/colab-badge.svg\" alt=\"Open In Colab\"/></a>"
      ]
    },
    {
      "cell_type": "code",
      "metadata": {
        "colab": {
          "base_uri": "https://localhost:8080/"
        },
        "id": "05_xxM3AMs7K",
        "outputId": "e293ebff-a47b-46ea-d946-5f0e7a7e72e6"
      },
      "source": [
        "import tensorflow as tf \n",
        "mnist = tf.keras.datasets.mnist \n",
        "(training_images,training_labels), (test_images,test_labels) = mnist.load_data()\n",
        "training_images  = training_images.reshape(60000,28,28,1)\n",
        "training_images = training_images/255\n",
        "test_images = test_images.reshape(10000,28,28,1)\n",
        "test_images = test_images/255\n",
        "model  = tf.keras.models.Sequential([\n",
        "                                     tf.keras.layers.Conv2D(64,(3,3),activation='relu',input_shape = (28,28,1)),\n",
        "                                     tf.keras.layers.MaxPooling2D(2,2),\n",
        "                                     tf.keras.layers.Flatten(),\n",
        "                                     tf.keras.layers.Dense(128,activation='relu'),\n",
        "                                     tf.keras.layers.Dense(10,activation='softmax')\n",
        "])\n",
        "model.compile(optimizer = 'adam',loss = \"sparse_categorical_crossentropy\",metrics=['accuracy'])\n",
        "model.fit(training_images,training_labels,epochs = 10)\n",
        "test_loss,test_acc = model.evaluate(test_images,test_labels)\n",
        "print(test_acc)\n",
        "model.summary()"
      ],
      "execution_count": null,
      "outputs": [
        {
          "output_type": "stream",
          "text": [
            "Downloading data from https://storage.googleapis.com/tensorflow/tf-keras-datasets/mnist.npz\n",
            "11493376/11490434 [==============================] - 0s 0us/step\n",
            "Epoch 1/10\n",
            "1875/1875 [==============================] - 53s 28ms/step - loss: 0.2676 - accuracy: 0.9176\n",
            "Epoch 2/10\n",
            "1875/1875 [==============================] - 52s 27ms/step - loss: 0.0466 - accuracy: 0.9858\n",
            "Epoch 3/10\n",
            "1875/1875 [==============================] - 52s 28ms/step - loss: 0.0270 - accuracy: 0.9914\n",
            "Epoch 4/10\n",
            "1875/1875 [==============================] - 52s 28ms/step - loss: 0.0180 - accuracy: 0.9945\n",
            "Epoch 5/10\n",
            "1875/1875 [==============================] - 52s 28ms/step - loss: 0.0126 - accuracy: 0.9960\n",
            "Epoch 6/10\n",
            "1875/1875 [==============================] - 52s 28ms/step - loss: 0.0072 - accuracy: 0.9979\n",
            "Epoch 7/10\n",
            "1875/1875 [==============================] - 52s 28ms/step - loss: 0.0063 - accuracy: 0.9981\n",
            "Epoch 8/10\n",
            "1875/1875 [==============================] - 52s 28ms/step - loss: 0.0037 - accuracy: 0.9989\n",
            "Epoch 9/10\n",
            "1875/1875 [==============================] - 52s 28ms/step - loss: 0.0051 - accuracy: 0.9986\n",
            "Epoch 10/10\n",
            "1875/1875 [==============================] - 58s 31ms/step - loss: 0.0032 - accuracy: 0.9990\n",
            "313/313 [==============================] - 3s 8ms/step - loss: 0.0536 - accuracy: 0.9868\n",
            "0.9868000149726868\n",
            "Model: \"sequential\"\n",
            "_________________________________________________________________\n",
            "Layer (type)                 Output Shape              Param #   \n",
            "=================================================================\n",
            "conv2d (Conv2D)              (None, 26, 26, 64)        640       \n",
            "_________________________________________________________________\n",
            "max_pooling2d (MaxPooling2D) (None, 13, 13, 64)        0         \n",
            "_________________________________________________________________\n",
            "flatten (Flatten)            (None, 10816)             0         \n",
            "_________________________________________________________________\n",
            "dense (Dense)                (None, 128)               1384576   \n",
            "_________________________________________________________________\n",
            "dense_1 (Dense)              (None, 10)                1290      \n",
            "=================================================================\n",
            "Total params: 1,386,506\n",
            "Trainable params: 1,386,506\n",
            "Non-trainable params: 0\n",
            "_________________________________________________________________\n"
          ],
          "name": "stdout"
        }
      ]
    }
  ]
}